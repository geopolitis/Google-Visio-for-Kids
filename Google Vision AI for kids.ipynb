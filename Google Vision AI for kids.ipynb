{
 "cells": [
  {
   "cell_type": "code",
   "execution_count": null,
   "metadata": {},
   "outputs": [],
   "source": [
    "%matplotlib inline\n",
    "import matplotlib.pyplot as plt\n",
    "import base64\n",
    "import httplib2\n",
    "import os\n",
    "\n",
    "from PIL import Image\n",
    "from PIL import ImageDraw\n",
    "\n",
    "from googleapiclient import discovery\n",
    "from oauth2client.client import GoogleCredentials"
   ]
  },
  {
   "cell_type": "code",
   "execution_count": null,
   "metadata": {},
   "outputs": [],
   "source": [
    "os.environ[\"GOOGLE_APPLICATION_CREDENTIALS\"] = 'visio-for-kids.json'\n",
    "DISCOVERY_URL='https://{api}.googleapis.com/$discovery/rest?version={apiVersion}'\n",
    "credentials = GoogleCredentials.get_application_default()\n",
    "service = discovery.build('vision', 'v1p4beta1', credentials=credentials,\n",
    "                          discoveryServiceUrl=DISCOVERY_URL)"
   ]
  },
  {
   "cell_type": "code",
   "execution_count": null,
   "metadata": {
    "scrolled": true
   },
   "outputs": [],
   "source": [
    "# Load photos \n",
    "srcimage = \"<FILE NAME>\"\n",
    "\n",
    "Image.open(srcimage)\n"
   ]
  },
  {
   "cell_type": "code",
   "execution_count": null,
   "metadata": {},
   "outputs": [],
   "source": [
    "def get_labels(photo_file):\n",
    "    with open(photo_file, 'rb') as image:\n",
    "        image_content = base64.b64encode(image.read())\n",
    "        service_request = service.images().annotate(body={\n",
    "            'requests': [{\n",
    "                'image': {\n",
    "                    'content': image_content.decode('UTF-8')\n",
    "                },\n",
    "                'features': [{\n",
    "                    'type': 'LABEL_DETECTION',\n",
    "                    'maxResults': 35\n",
    "                }]\n",
    "            }]\n",
    "        })\n",
    "        response = service_request.execute()\n",
    "        return response['responses'][0]['labelAnnotations']"
   ]
  },
  {
   "cell_type": "code",
   "execution_count": null,
   "metadata": {},
   "outputs": [],
   "source": [
    "labels = get_labels(srcimage)\n",
    "for label in labels:\n",
    "    print ('%s : %2d%%' % (label['description'], label['score']*100))"
   ]
  },
  {
   "cell_type": "code",
   "execution_count": null,
   "metadata": {},
   "outputs": [],
   "source": [
    "def get_logo(photo_file):\n",
    "    with open(photo_file, 'rb') as image:\n",
    "        image_content = base64.b64encode(image.read())\n",
    "        service_request = service.images().annotate(body={\n",
    "            'requests': [{\n",
    "               'image': {\n",
    "                        'content': image_content.decode('UTF-8')\n",
    "                },\n",
    "                'features': [{\n",
    "                    'type': \"LOGO_DETECTION\",\n",
    "                    'maxResults': 21\n",
    "                }]\n",
    "            }]\n",
    "        })\n",
    "        response = service_request.execute()\n",
    "        return response['responses'][0]['logoAnnotations']"
   ]
  },
  {
   "cell_type": "code",
   "execution_count": null,
   "metadata": {},
   "outputs": [],
   "source": [
    "logos = get_logo(srcimage)\n",
    "for logo in logos:\n",
    "    print ('%s : %2d%%' % (logo['description'], logo['score']*100))"
   ]
  },
  {
   "cell_type": "code",
   "execution_count": null,
   "metadata": {},
   "outputs": [],
   "source": [
    "def highlight_logo(photo_file, responce):\n",
    "    im = Image.open(photo_file)\n",
    "    draw = ImageDraw.Draw(im)\n",
    "    for logo in logos:\n",
    "        if logo:\n",
    "          color = '#00ff00'\n",
    "        box = [(v.get('x', 0.0), v.get('y', 0.0)) for v in logo['boundingPoly']['vertices']]\n",
    "        draw.line(box + [box[0]], width=5, fill=color)\n",
    "    return im"
   ]
  },
  {
   "cell_type": "code",
   "execution_count": null,
   "metadata": {},
   "outputs": [],
   "source": [
    "logos = get_logo(srcimage)\n",
    "highlight_logo(srcimage, logos)"
   ]
  },
  {
   "cell_type": "code",
   "execution_count": null,
   "metadata": {},
   "outputs": [],
   "source": [
    "def get_faces(photo_file):\n",
    "    with open(photo_file, 'rb') as image:\n",
    "        image_content = base64.b64encode(image.read())\n",
    "        service_request = service.images().annotate(body={\n",
    "            'requests': [{\n",
    "                'image': {\n",
    "                    'content':  image_content.decode('UTF-8')\n",
    "                },\n",
    "                'features': [{\n",
    "                    'type': 'FACE_DETECTION',\n",
    "                    'maxResults': 1000\n",
    "                },]\n",
    "            }]\n",
    "        })\n",
    "        response = service_request.execute()\n",
    "        return response['responses'][0]['faceAnnotations']"
   ]
  },
  {
   "cell_type": "code",
   "execution_count": null,
   "metadata": {},
   "outputs": [],
   "source": [
    "def highlight_faces(photo_file, responce):\n",
    "    im = Image.open(photo_file)\n",
    "    draw = ImageDraw.Draw(im)\n",
    "    for face in faces:\n",
    "        if face['joyLikelihood'] == 'VERY_LIKELY':\n",
    "            color = '#ff8888'\n",
    "        else:\n",
    "            color = '#00ff00'\n",
    "        box = [(v.get('x', 0.0), v.get('y', 0.0)) for v in face['fdBoundingPoly']['vertices']]\n",
    "        draw.line(box + [box[0]], width=5, fill=color)\n",
    "    return im"
   ]
  },
  {
   "cell_type": "code",
   "execution_count": null,
   "metadata": {
    "scrolled": true
   },
   "outputs": [],
   "source": [
    "faces = get_faces(srcimage)\n",
    "highlight_faces(srcimage, faces)"
   ]
  }
 ],
 "metadata": {
  "kernelspec": {
   "display_name": "Python 3",
   "language": "python",
   "name": "python3"
  },
  "language_info": {
   "codemirror_mode": {
    "name": "ipython",
    "version": 3
   },
   "file_extension": ".py",
   "mimetype": "text/x-python",
   "name": "python",
   "nbconvert_exporter": "python",
   "pygments_lexer": "ipython3",
   "version": "3.7.4"
  }
 },
 "nbformat": 4,
 "nbformat_minor": 2
}
